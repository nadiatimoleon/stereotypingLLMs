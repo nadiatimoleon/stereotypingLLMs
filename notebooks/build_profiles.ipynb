{
 "cells": [
  {
   "cell_type": "code",
   "execution_count": 4,
   "metadata": {},
   "outputs": [],
   "source": [
    "import itertools\n",
    "import pandas as pd"
   ]
  },
  {
   "cell_type": "code",
   "execution_count": 5,
   "metadata": {},
   "outputs": [],
   "source": [
    "gender = [\"female\", \"male\"]\n",
    "\n",
    "age = [\"young\", \"adult\", \"old\"]\n",
    "\n",
    "civil_status = [\n",
    "    \"single\",\n",
    "    \"married\",\n",
    "    \"widowed\",\n",
    "    \"divorced\",\n",
    "    \"separated\",\n",
    "    \"in a registered partnership\"\n",
    "]\n",
    "\n",
    "education = [\n",
    "    \"early childhood education\",\n",
    "    \"primary education\",\n",
    "    \"lower secondary education\",\n",
    "    \"upper secondary education\",\n",
    "    \"post-secondary non-tertiary education\",\n",
    "    \"short-cycle tertiary education\",\n",
    "    \"bachelor's or equivalent level\",\n",
    "    \"master's or equivalent level\",\n",
    "    \"doctoral or equivalent level\"\n",
    "]\n",
    "\n",
    "occupation = [\n",
    "    \"armed forces\",\n",
    "    \"manager\",\n",
    "    \"professional\",\n",
    "    \"technician or associate professional\",\n",
    "    \"clerical support worker\",\n",
    "    \"service or sales worker\",\n",
    "    \"skilled agricultural, forestry or fishery worker\",\n",
    "    \"craft and related trades worker\",\n",
    "    \"plant and machine operator or assembler\",\n",
    "    \"elementary occupation\"\n",
    "]\n"
   ]
  },
  {
   "cell_type": "code",
   "execution_count": 6,
   "metadata": {},
   "outputs": [
    {
     "name": "stdout",
     "output_type": "stream",
     "text": [
      "3240\n"
     ]
    }
   ],
   "source": [
    "# number of all possible combinations\n",
    "print(len(gender) * len(age) * len(civil_status) * len(education) * len(occupation))"
   ]
  },
  {
   "cell_type": "code",
   "execution_count": 7,
   "metadata": {},
   "outputs": [],
   "source": [
    "# generate one alias for each possible combination\n",
    "combinations = list(itertools.product(gender, age, civil_status, education, occupation))\n",
    "\n",
    "# dataframe to store profiles\n",
    "profiles = pd.DataFrame(combinations, columns=[\"gender\", \"age\", \"civil_status\", \"education\", \"occupation\"])\n",
    "profiles.insert(0, 'id', range(1, len(profiles) + 1))"
   ]
  },
  {
   "cell_type": "code",
   "execution_count": 8,
   "metadata": {},
   "outputs": [
    {
     "data": {
      "text/html": [
       "<div>\n",
       "<style scoped>\n",
       "    .dataframe tbody tr th:only-of-type {\n",
       "        vertical-align: middle;\n",
       "    }\n",
       "\n",
       "    .dataframe tbody tr th {\n",
       "        vertical-align: top;\n",
       "    }\n",
       "\n",
       "    .dataframe thead th {\n",
       "        text-align: right;\n",
       "    }\n",
       "</style>\n",
       "<table border=\"1\" class=\"dataframe\">\n",
       "  <thead>\n",
       "    <tr style=\"text-align: right;\">\n",
       "      <th></th>\n",
       "      <th>id</th>\n",
       "      <th>gender</th>\n",
       "      <th>age</th>\n",
       "      <th>civil_status</th>\n",
       "      <th>education</th>\n",
       "      <th>occupation</th>\n",
       "    </tr>\n",
       "  </thead>\n",
       "  <tbody>\n",
       "    <tr>\n",
       "      <th>0</th>\n",
       "      <td>1</td>\n",
       "      <td>female</td>\n",
       "      <td>young</td>\n",
       "      <td>single</td>\n",
       "      <td>early childhood education</td>\n",
       "      <td>armed forces</td>\n",
       "    </tr>\n",
       "    <tr>\n",
       "      <th>1</th>\n",
       "      <td>2</td>\n",
       "      <td>female</td>\n",
       "      <td>young</td>\n",
       "      <td>single</td>\n",
       "      <td>early childhood education</td>\n",
       "      <td>manager</td>\n",
       "    </tr>\n",
       "    <tr>\n",
       "      <th>2</th>\n",
       "      <td>3</td>\n",
       "      <td>female</td>\n",
       "      <td>young</td>\n",
       "      <td>single</td>\n",
       "      <td>early childhood education</td>\n",
       "      <td>professional</td>\n",
       "    </tr>\n",
       "    <tr>\n",
       "      <th>3</th>\n",
       "      <td>4</td>\n",
       "      <td>female</td>\n",
       "      <td>young</td>\n",
       "      <td>single</td>\n",
       "      <td>early childhood education</td>\n",
       "      <td>technician or associate professional</td>\n",
       "    </tr>\n",
       "    <tr>\n",
       "      <th>4</th>\n",
       "      <td>5</td>\n",
       "      <td>female</td>\n",
       "      <td>young</td>\n",
       "      <td>single</td>\n",
       "      <td>early childhood education</td>\n",
       "      <td>clerical support worker</td>\n",
       "    </tr>\n",
       "  </tbody>\n",
       "</table>\n",
       "</div>"
      ],
      "text/plain": [
       "   id  gender    age civil_status                  education  \\\n",
       "0   1  female  young       single  early childhood education   \n",
       "1   2  female  young       single  early childhood education   \n",
       "2   3  female  young       single  early childhood education   \n",
       "3   4  female  young       single  early childhood education   \n",
       "4   5  female  young       single  early childhood education   \n",
       "\n",
       "                             occupation  \n",
       "0                          armed forces  \n",
       "1                               manager  \n",
       "2                          professional  \n",
       "3  technician or associate professional  \n",
       "4               clerical support worker  "
      ]
     },
     "execution_count": 8,
     "metadata": {},
     "output_type": "execute_result"
    }
   ],
   "source": [
    "profiles.head(5)"
   ]
  },
  {
   "cell_type": "code",
   "execution_count": 9,
   "metadata": {},
   "outputs": [],
   "source": [
    "# Save as json\n",
    "profiles.to_json('../data/synthetic_profiles.json', orient='records')"
   ]
  }
 ],
 "metadata": {
  "kernelspec": {
   "display_name": "base",
   "language": "python",
   "name": "python3"
  },
  "language_info": {
   "codemirror_mode": {
    "name": "ipython",
    "version": 3
   },
   "file_extension": ".py",
   "mimetype": "text/x-python",
   "name": "python",
   "nbconvert_exporter": "python",
   "pygments_lexer": "ipython3",
   "version": "3.11.8"
  }
 },
 "nbformat": 4,
 "nbformat_minor": 2
}
